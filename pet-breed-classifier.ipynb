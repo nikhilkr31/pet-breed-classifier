{
 "cells": [
  {
   "cell_type": "code",
   "execution_count": 1,
   "id": "a9ba863c-84f4-4feb-b215-4756a73d9ca1",
   "metadata": {},
   "outputs": [],
   "source": [
    "import os\n",
    "os.environ['PYTORCH_ENABLE_MPS_FALLBACK']='1'"
   ]
  },
  {
   "cell_type": "code",
   "execution_count": 2,
   "id": "0cf9eaff-ebe1-4d35-8155-a0c3c189d703",
   "metadata": {},
   "outputs": [],
   "source": [
    "\n",
    "from fastai.vision.all import *\n",
    "path = untar_data(URLs.PETS)"
   ]
  },
  {
   "cell_type": "code",
   "execution_count": 3,
   "id": "0b9e9b1b-a87f-4cc1-8b3c-7d6c2bf1e176",
   "metadata": {},
   "outputs": [
    {
     "name": "stderr",
     "output_type": "stream",
     "text": [
      "/Users/nikhil/Portfolio/pet-breed-classifier/env/lib/python3.11/site-packages/torch/_tensor.py:1386: UserWarning: The operator 'aten::_linalg_solve_ex.result' is not currently supported on the MPS backend and will fall back to run on the CPU. This may have performance implications. (Triggered internally at /Users/runner/miniforge3/conda-bld/libtorch_1715184404505/work/aten/src/ATen/mps/MPSFallback.mm:13.)\n",
      "  ret = func(*args, **kwargs)\n"
     ]
    }
   ],
   "source": [
    "path.ls()\n",
    "(path/\"images\").ls()\n",
    "fname = (path/\"images\").ls()[0]\n",
    "re.findall(r'(.+)_\\d+.jpg$', fname.name)\n",
    "\n",
    "pets = DataBlock(blocks = (ImageBlock, CategoryBlock),\n",
    "                 get_items=get_image_files, \n",
    "                 splitter=RandomSplitter(seed=42),\n",
    "                 get_y=using_attr(RegexLabeller(r'(.+)_\\d+.jpg$'), 'name'),\n",
    "                 item_tfms=Resize(460),\n",
    "                 batch_tfms=aug_transforms(size=224, min_scale=0.75))\n",
    "dls = pets.dataloaders(path/\"images\")"
   ]
  },
  {
   "cell_type": "code",
   "execution_count": null,
   "id": "4c7093bd-2c56-49dc-8966-a12ba99b072b",
   "metadata": {},
   "outputs": [],
   "source": []
  }
 ],
 "metadata": {
  "kernelspec": {
   "display_name": "Python 3 (ipykernel)",
   "language": "python",
   "name": "python3"
  },
  "language_info": {
   "codemirror_mode": {
    "name": "ipython",
    "version": 3
   },
   "file_extension": ".py",
   "mimetype": "text/x-python",
   "name": "python",
   "nbconvert_exporter": "python",
   "pygments_lexer": "ipython3",
   "version": "3.11.9"
  }
 },
 "nbformat": 4,
 "nbformat_minor": 5
}
